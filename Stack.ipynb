{
 "cells": [
  {
   "cell_type": "code",
   "execution_count": null,
   "metadata": {},
   "outputs": [],
   "source": [
    "class stack:\n",
    "    def __init__(self):\n",
    "        self.items=[]\n",
    "    def is_empty(self):\n",
    "        return self.items==[]\n",
    "    def push(self,data):\n",
    "        self.items.insert(0,data)\n",
    "    def pop(self):\n",
    "        return self.items.pop(0)\n",
    "    def show(self):\n",
    "        print(self.items)\n",
    "s=stack()\n",
    "while True:\n",
    "    print(\"STACK: \",end=\" \")\n",
    "    s.show()\n",
    "    opt=input(\"ENTER 'A'TO PUSH, 'B TO POP : \")\n",
    "    if opt=='a' or opt=='A':\n",
    "        print(\"ENTER A VALUE TO PUSH IN STACK: \")\n",
    "        s.push(input(\"\"))\n",
    "    if opt=='b' or opt=='B':\n",
    "        print(\"ELEMENTS IS POPPED OUT FROM STACK: \")\n",
    "        s.pop()\n",
    "        "
   ]
  },
  {
   "cell_type": "code",
   "execution_count": null,
   "metadata": {},
   "outputs": [],
   "source": []
  }
 ],
 "metadata": {
  "kernelspec": {
   "display_name": "Python 3",
   "language": "python",
   "name": "python3"
  },
  "language_info": {
   "codemirror_mode": {
    "name": "ipython",
    "version": 3
   },
   "file_extension": ".py",
   "mimetype": "text/x-python",
   "name": "python",
   "nbconvert_exporter": "python",
   "pygments_lexer": "ipython3",
   "version": "3.7.3"
  }
 },
 "nbformat": 4,
 "nbformat_minor": 2
}
