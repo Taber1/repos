{
 "cells": [
  {
   "cell_type": "code",
   "execution_count": 5,
   "metadata": {},
   "outputs": [
    {
     "name": "stdout",
     "output_type": "stream",
     "text": [
      "how many numbers you want to insert: 5\n",
      "enter your choice:5\n",
      "enter your choice:4\n",
      "enter your choice:4\n",
      "enter your choice:3\n",
      "enter your choice:21\n",
      "0 1 1 1 2 2 2 3 3 3 3 4 "
     ]
    }
   ],
   "source": [
    "arr=[]\n",
    "n=int(input(\"how many numbers you want to insert: \"))\n",
    "for i in range(0,n):\n",
    "    num=int(input(\"enter your choice:\"))\n",
    "    arr.append(num)\n",
    "l=len(arr)\n",
    "for i in range(0,l):\n",
    "    for j in range(1,l):\n",
    "        if arr[i]<=arr[j]:\n",
    "            print(i,end=\" \")\n",
    "        else:\n",
    "            pass\n",
    "\n",
    "    "
   ]
  },
  {
   "cell_type": "code",
   "execution_count": null,
   "metadata": {},
   "outputs": [],
   "source": []
  }
 ],
 "metadata": {
  "kernelspec": {
   "display_name": "Python 3",
   "language": "python",
   "name": "python3"
  },
  "language_info": {
   "codemirror_mode": {
    "name": "ipython",
    "version": 3
   },
   "file_extension": ".py",
   "mimetype": "text/x-python",
   "name": "python",
   "nbconvert_exporter": "python",
   "pygments_lexer": "ipython3",
   "version": "3.7.3"
  }
 },
 "nbformat": 4,
 "nbformat_minor": 2
}
